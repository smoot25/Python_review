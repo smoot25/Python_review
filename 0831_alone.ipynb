{
 "cells": [
  {
   "cell_type": "code",
   "execution_count": 1,
   "metadata": {
    "colab": {
     "base_uri": "https://localhost:8080/",
     "height": 373
    },
    "executionInfo": {
     "elapsed": 155314,
     "status": "error",
     "timestamp": 1756640777634,
     "user": {
      "displayName": "황준호",
      "userId": "06531412985764741413"
     },
     "user_tz": -540
    },
    "id": "xbL57FTa7Cur",
    "outputId": "0ec5bc51-e6ac-4a66-9084-504464801d41"
   },
   "outputs": [
    {
     "name": "stdout",
     "output_type": "stream",
     "text": [
      "c\n"
     ]
    }
   ],
   "source": [
    "a = input()\n",
    "\n",
    "middle_index = int(len(a) / 2)\n",
    "\n",
    "if len(a) % 2 != 0 :\n",
    "    print(a[middle_index])\n",
    "else :\n",
    "    print(a[middle_index - 1 : middle_index +1])\n"
   ]
  },
  {
   "cell_type": "code",
   "execution_count": null,
   "metadata": {
    "colab": {
     "base_uri": "https://localhost:8080/"
    },
    "executionInfo": {
     "elapsed": 58,
     "status": "ok",
     "timestamp": 1756640827712,
     "user": {
      "displayName": "황준호",
      "userId": "06531412985764741413"
     },
     "user_tz": -540
    },
    "id": "2FdBLvPS8LWb",
    "outputId": "237789e8-42d5-4a28-d742-2a4ab14cba58"
   },
   "outputs": [
    {
     "name": "stdout",
     "output_type": "stream",
     "text": [
      "트훈스닥"
     ]
    }
   ],
   "source": [
    "for i in reversed(\"닥스훈트\") :\n",
    "    print(i, end='')    # end = ''  >>>>> 줄띄우기 없음."
   ]
  },
  {
   "cell_type": "code",
   "execution_count": null,
   "metadata": {
    "colab": {
     "base_uri": "https://localhost:8080/"
    },
    "executionInfo": {
     "elapsed": 7,
     "status": "ok",
     "timestamp": 1756641882272,
     "user": {
      "displayName": "황준호",
      "userId": "06531412985764741413"
     },
     "user_tz": -540
    },
    "id": "cSgNknpZ89fQ",
    "outputId": "97afd305-676d-4333-a100-8386734aa7e2"
   },
   "outputs": [
    {
     "name": "stdout",
     "output_type": "stream",
     "text": [
      "총합은 13이다.\n"
     ]
    }
   ],
   "source": [
    "정수 = [10, 5, 8]\n",
    "부호 = [True, False, True]\n",
    "합 = 0\n",
    "\n",
    "for k, v in zip(부호, 정수) :\n",
    "    if k:\n",
    "        합 += v\n",
    "    else :\n",
    "        합 -= v\n",
    "\n",
    "print(f\"총합은 {합}이다.\")"
   ]
  },
  {
   "cell_type": "code",
   "execution_count": null,
   "metadata": {
    "colab": {
     "base_uri": "https://localhost:8080/"
    },
    "executionInfo": {
     "elapsed": 7,
     "status": "ok",
     "timestamp": 1756642223582,
     "user": {
      "displayName": "황준호",
      "userId": "06531412985764741413"
     },
     "user_tz": -540
    },
    "id": "Jf45N1HsA-8_",
    "outputId": "867a458f-d7d7-487a-fab9-66f0e9153635"
   },
   "outputs": [
    {
     "name": "stdout",
     "output_type": "stream",
     "text": [
      "16\n"
     ]
    }
   ],
   "source": [
    "#9.예제로 while문 익혀보기\n",
    "\n",
    "#콜라츠하는 사람은 주어진 수가 1이 될때까지 다음 작업을 반복하면, 모든 수를 1로 만들 수 있다고 추측했다\n",
    "#작업\n",
    "#1-1. 입력된 수가 짝수라면 2로 나눈다.\n",
    "#1-2. 입력된 수가 홀수라면 3을 곱하고 1을 더한다.\n",
    "#3.위 결과로 나온 수에 같은 작업을 1이 될 때까지 반복한다\n",
    "#예를 들어, 입력된 수가 6이라면, 6->3->10->5->16->8->4->2->1\n",
    "\n",
    "# num변수에 있는 수를 1로 만드는데 몇번이나 작업을 반복해야하는지 출력한다.\n",
    "\n",
    "num = 7\n",
    "answer = 0\n",
    "\n",
    "while num != 1 :\n",
    "    if num % 2 == 0 :\n",
    "        num = num / 2\n",
    "    else :\n",
    "        num = num * 3 + 1\n",
    "    answer += 1\n",
    "\n",
    "print(answer)"
   ]
  },
  {
   "cell_type": "code",
   "execution_count": null,
   "metadata": {
    "id": "e1l15GYGCSSp"
   },
   "outputs": [],
   "source": [
    "#8.붕어빵 인터네셔널은 내가 살린다 나도 이제 개발자\n",
    "#for문을 이용해 리팩토링을 해주세요. input().......\n",
    "#잡담 게시판에 여러분의 코드를 자랑해 주세요, 깔끔한 코드 상 1명 / 노력 상 1명 스벅 쿠폰을 보내드리겠습니다.\n",
    "\n",
    "#초기 코드 :)\n",
    "fish__p , fish__s , fish__j = \"붕어빵(팥)\", \"붕어빵(슈크림)\", \"붕어빵(잡채)\"\n",
    "fish__p__sell , fish__s__sell , fish__j_sell = 2000, 2500, 3000\n",
    "order_s, order_j = 2, 3\n",
    "order_s__pay, order_j__pay = fish__s__sell * 2, fish__j_sell *3\n",
    "total = order_s + order_j\n",
    "total_pay = order_s__pay + order_j__pay\n",
    "\n",
    "print(f'주문이 완료되었습니다. {fish__s} {order_s}개, {fish__j}개 {order_j} 총 {total}개 결제 금액은 {total_pay}원 입니다.')"
   ]
  },
  {
   "cell_type": "code",
   "execution_count": null,
   "metadata": {
    "colab": {
     "base_uri": "https://localhost:8080/"
    },
    "executionInfo": {
     "elapsed": 4629,
     "status": "ok",
     "timestamp": 1756649087168,
     "user": {
      "displayName": "황준호",
      "userId": "06531412985764741413"
     },
     "user_tz": -540
    },
    "id": "-5P07YLXCVJY",
    "outputId": "4ad4bd1b-dc1d-4092-fc69-44e179e18f15"
   },
   "outputs": [
    {
     "name": "stdout",
     "output_type": "stream",
     "text": [
      "주문하실 붕어빵의 개수를 차례대로 입력해 주세요! (팥)붕어빵,(슈크림)붕어빵,(잡채)붕어빵 : 3,3,1\n",
      "(팥)붕어빵를 3개 구매하셨습니다. 가격은 3600원 입니다.\n",
      "(슈크림)붕어빵를 3개 구매하셨습니다. 가격은 3600원 입니다.\n",
      "(잡채)붕어빵를 1개 구매하셨습니다. 가격은 1500원 입니다.\n",
      "최종 가격은 8700원 입니다.\n"
     ]
    }
   ],
   "source": [
    "# input 입력창 생성하기\n",
    "bread_list = list(map(int, input(\"주문하실 붕어빵의 개수를 차례대로 입력해 주세요! (팥)붕어빵,(슈크림)붕어빵,(잡채)붕어빵 : \").split(\",\")))\n",
    "\n",
    "# 변수 만들어서 리스트 안에 튜플 넣기\n",
    "\n",
    "bread_fish = [\"(팥)붕어빵\", \"(슈크림)붕어빵\", \"(잡채)붕어빵\"]\n",
    "bread_price = [1200, 1200, 1500]\n",
    "total = 0\n",
    "\n",
    "# 계산하는 for문 만들기\n",
    "for bread, count, price in zip(bread_fish, bread_list, bread_price):\n",
    "    print(f\"{bread}를 {count}개 구매하셨습니다. 가격은 {count * price}원 입니다.\")\n",
    "    total += count * price\n",
    "\n",
    "\n",
    "#최종출력\n",
    "print(f\"최종 가격은 {total}원 입니다.\")"
   ]
  }
 ],
 "metadata": {
  "colab": {
   "authorship_tag": "ABX9TyPrXDOi5tZkv9+vj25NKVo5",
   "provenance": [],
   "toc_visible": true
  },
  "kernelspec": {
   "display_name": "Python 3",
   "name": "python3"
  },
  "language_info": {
   "codemirror_mode": {
    "name": "ipython",
    "version": 3
   },
   "file_extension": ".py",
   "mimetype": "text/x-python",
   "name": "python",
   "nbconvert_exporter": "python",
   "pygments_lexer": "ipython3",
   "version": "3.13.7"
  }
 },
 "nbformat": 4,
 "nbformat_minor": 0
}
